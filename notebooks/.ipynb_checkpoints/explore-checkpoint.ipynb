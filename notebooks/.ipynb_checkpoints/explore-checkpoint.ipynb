{
 "cells": [
  {
   "cell_type": "code",
   "execution_count": 1,
   "id": "26c80c49-24d1-4da5-86f6-b23142445861",
   "metadata": {
    "tags": []
   },
   "outputs": [],
   "source": [
    "import pandas as pd\n",
    "import numpy as np\n",
    "import matplotlib.pyplot as plt\n",
    "\n",
    "# to bypass warnings\n",
    "import warnings\n",
    "warnings.filterwarnings('ignore')"
   ]
  },
  {
   "cell_type": "code",
   "execution_count": 2,
   "id": "82eb63cb-68a4-4f3a-8a1f-c5dc74021299",
   "metadata": {
    "tags": []
   },
   "outputs": [],
   "source": [
    "file_path = \"/home/dcti-02-11/projects/amoye_internship/sept/Food_Balance_Analysis_using_Python/data/FoodBalanceSheets_E_Africa_NOFLAG.csv\"\n",
    "\n",
    "df = pd.read_csv(file_path, encoding=\"latin-1\")"
   ]
  },
  {
   "cell_type": "code",
   "execution_count": 12,
   "id": "12a0acd6-3386-41dc-9cc7-02e6636212f5",
   "metadata": {
    "tags": []
   },
   "outputs": [
    {
     "data": {
      "text/html": [
       "<div>\n",
       "<style scoped>\n",
       "    .dataframe tbody tr th:only-of-type {\n",
       "        vertical-align: middle;\n",
       "    }\n",
       "\n",
       "    .dataframe tbody tr th {\n",
       "        vertical-align: top;\n",
       "    }\n",
       "\n",
       "    .dataframe thead th {\n",
       "        text-align: right;\n",
       "    }\n",
       "</style>\n",
       "<table border=\"1\" class=\"dataframe\">\n",
       "  <thead>\n",
       "    <tr style=\"text-align: right;\">\n",
       "      <th></th>\n",
       "      <th>Area Code</th>\n",
       "      <th>Area</th>\n",
       "      <th>Item Code</th>\n",
       "      <th>Item</th>\n",
       "      <th>Element Code</th>\n",
       "      <th>Element</th>\n",
       "      <th>Unit</th>\n",
       "      <th>Y2014</th>\n",
       "      <th>Y2015</th>\n",
       "      <th>Y2016</th>\n",
       "      <th>Y2017</th>\n",
       "      <th>Y2018</th>\n",
       "    </tr>\n",
       "  </thead>\n",
       "  <tbody>\n",
       "    <tr>\n",
       "      <th>0</th>\n",
       "      <td>4</td>\n",
       "      <td>Algeria</td>\n",
       "      <td>2501</td>\n",
       "      <td>Population</td>\n",
       "      <td>511</td>\n",
       "      <td>Total Population - Both sexes</td>\n",
       "      <td>1000 persons</td>\n",
       "      <td>38924.00</td>\n",
       "      <td>39728.00</td>\n",
       "      <td>40551.00</td>\n",
       "      <td>41389.00</td>\n",
       "      <td>42228.00</td>\n",
       "    </tr>\n",
       "    <tr>\n",
       "      <th>1</th>\n",
       "      <td>4</td>\n",
       "      <td>Algeria</td>\n",
       "      <td>2501</td>\n",
       "      <td>Population</td>\n",
       "      <td>5301</td>\n",
       "      <td>Domestic supply quantity</td>\n",
       "      <td>1000 tonnes</td>\n",
       "      <td>0.00</td>\n",
       "      <td>0.00</td>\n",
       "      <td>0.00</td>\n",
       "      <td>0.00</td>\n",
       "      <td>0.00</td>\n",
       "    </tr>\n",
       "    <tr>\n",
       "      <th>2</th>\n",
       "      <td>4</td>\n",
       "      <td>Algeria</td>\n",
       "      <td>2901</td>\n",
       "      <td>Grand Total</td>\n",
       "      <td>664</td>\n",
       "      <td>Food supply (kcal/capita/day)</td>\n",
       "      <td>kcal/capita/day</td>\n",
       "      <td>3377.00</td>\n",
       "      <td>3379.00</td>\n",
       "      <td>3372.00</td>\n",
       "      <td>3341.00</td>\n",
       "      <td>3322.00</td>\n",
       "    </tr>\n",
       "    <tr>\n",
       "      <th>3</th>\n",
       "      <td>4</td>\n",
       "      <td>Algeria</td>\n",
       "      <td>2901</td>\n",
       "      <td>Grand Total</td>\n",
       "      <td>674</td>\n",
       "      <td>Protein supply quantity (g/capita/day)</td>\n",
       "      <td>g/capita/day</td>\n",
       "      <td>94.90</td>\n",
       "      <td>94.35</td>\n",
       "      <td>94.72</td>\n",
       "      <td>92.82</td>\n",
       "      <td>91.83</td>\n",
       "    </tr>\n",
       "    <tr>\n",
       "      <th>4</th>\n",
       "      <td>4</td>\n",
       "      <td>Algeria</td>\n",
       "      <td>2901</td>\n",
       "      <td>Grand Total</td>\n",
       "      <td>684</td>\n",
       "      <td>Fat supply quantity (g/capita/day)</td>\n",
       "      <td>g/capita/day</td>\n",
       "      <td>80.06</td>\n",
       "      <td>79.36</td>\n",
       "      <td>77.40</td>\n",
       "      <td>80.19</td>\n",
       "      <td>77.28</td>\n",
       "    </tr>\n",
       "    <tr>\n",
       "      <th>5</th>\n",
       "      <td>4</td>\n",
       "      <td>Algeria</td>\n",
       "      <td>2903</td>\n",
       "      <td>Vegetal Products</td>\n",
       "      <td>664</td>\n",
       "      <td>Food supply (kcal/capita/day)</td>\n",
       "      <td>kcal/capita/day</td>\n",
       "      <td>2932.00</td>\n",
       "      <td>2958.00</td>\n",
       "      <td>2941.00</td>\n",
       "      <td>2921.00</td>\n",
       "      <td>2932.00</td>\n",
       "    </tr>\n",
       "    <tr>\n",
       "      <th>6</th>\n",
       "      <td>4</td>\n",
       "      <td>Algeria</td>\n",
       "      <td>2903</td>\n",
       "      <td>Vegetal Products</td>\n",
       "      <td>674</td>\n",
       "      <td>Protein supply quantity (g/capita/day)</td>\n",
       "      <td>g/capita/day</td>\n",
       "      <td>67.14</td>\n",
       "      <td>67.38</td>\n",
       "      <td>67.37</td>\n",
       "      <td>66.11</td>\n",
       "      <td>67.10</td>\n",
       "    </tr>\n",
       "    <tr>\n",
       "      <th>7</th>\n",
       "      <td>4</td>\n",
       "      <td>Algeria</td>\n",
       "      <td>2903</td>\n",
       "      <td>Vegetal Products</td>\n",
       "      <td>684</td>\n",
       "      <td>Fat supply quantity (g/capita/day)</td>\n",
       "      <td>g/capita/day</td>\n",
       "      <td>53.84</td>\n",
       "      <td>54.72</td>\n",
       "      <td>52.04</td>\n",
       "      <td>55.59</td>\n",
       "      <td>54.57</td>\n",
       "    </tr>\n",
       "    <tr>\n",
       "      <th>8</th>\n",
       "      <td>4</td>\n",
       "      <td>Algeria</td>\n",
       "      <td>2941</td>\n",
       "      <td>Animal Products</td>\n",
       "      <td>664</td>\n",
       "      <td>Food supply (kcal/capita/day)</td>\n",
       "      <td>kcal/capita/day</td>\n",
       "      <td>444.00</td>\n",
       "      <td>421.00</td>\n",
       "      <td>431.00</td>\n",
       "      <td>421.00</td>\n",
       "      <td>390.00</td>\n",
       "    </tr>\n",
       "    <tr>\n",
       "      <th>9</th>\n",
       "      <td>4</td>\n",
       "      <td>Algeria</td>\n",
       "      <td>2941</td>\n",
       "      <td>Animal Products</td>\n",
       "      <td>674</td>\n",
       "      <td>Protein supply quantity (g/capita/day)</td>\n",
       "      <td>g/capita/day</td>\n",
       "      <td>27.76</td>\n",
       "      <td>26.97</td>\n",
       "      <td>27.35</td>\n",
       "      <td>26.71</td>\n",
       "      <td>24.73</td>\n",
       "    </tr>\n",
       "  </tbody>\n",
       "</table>\n",
       "</div>"
      ],
      "text/plain": [
       "   Area Code     Area  Item Code              Item  Element Code  \\\n",
       "0          4  Algeria       2501        Population           511   \n",
       "1          4  Algeria       2501        Population          5301   \n",
       "2          4  Algeria       2901       Grand Total           664   \n",
       "3          4  Algeria       2901       Grand Total           674   \n",
       "4          4  Algeria       2901       Grand Total           684   \n",
       "5          4  Algeria       2903  Vegetal Products           664   \n",
       "6          4  Algeria       2903  Vegetal Products           674   \n",
       "7          4  Algeria       2903  Vegetal Products           684   \n",
       "8          4  Algeria       2941   Animal Products           664   \n",
       "9          4  Algeria       2941   Animal Products           674   \n",
       "\n",
       "                                  Element             Unit     Y2014  \\\n",
       "0           Total Population - Both sexes     1000 persons  38924.00   \n",
       "1                Domestic supply quantity      1000 tonnes      0.00   \n",
       "2           Food supply (kcal/capita/day)  kcal/capita/day   3377.00   \n",
       "3  Protein supply quantity (g/capita/day)     g/capita/day     94.90   \n",
       "4      Fat supply quantity (g/capita/day)     g/capita/day     80.06   \n",
       "5           Food supply (kcal/capita/day)  kcal/capita/day   2932.00   \n",
       "6  Protein supply quantity (g/capita/day)     g/capita/day     67.14   \n",
       "7      Fat supply quantity (g/capita/day)     g/capita/day     53.84   \n",
       "8           Food supply (kcal/capita/day)  kcal/capita/day    444.00   \n",
       "9  Protein supply quantity (g/capita/day)     g/capita/day     27.76   \n",
       "\n",
       "      Y2015     Y2016     Y2017     Y2018  \n",
       "0  39728.00  40551.00  41389.00  42228.00  \n",
       "1      0.00      0.00      0.00      0.00  \n",
       "2   3379.00   3372.00   3341.00   3322.00  \n",
       "3     94.35     94.72     92.82     91.83  \n",
       "4     79.36     77.40     80.19     77.28  \n",
       "5   2958.00   2941.00   2921.00   2932.00  \n",
       "6     67.38     67.37     66.11     67.10  \n",
       "7     54.72     52.04     55.59     54.57  \n",
       "8    421.00    431.00    421.00    390.00  \n",
       "9     26.97     27.35     26.71     24.73  "
      ]
     },
     "execution_count": 12,
     "metadata": {},
     "output_type": "execute_result"
    }
   ],
   "source": [
    "df.head(10)"
   ]
  },
  {
   "cell_type": "code",
   "execution_count": 4,
   "id": "4f3e1382-687b-4029-92c1-25bcf978e8fe",
   "metadata": {},
   "outputs": [
    {
     "name": "stdout",
     "output_type": "stream",
     "text": [
      "<class 'pandas.core.frame.DataFrame'>\n",
      "RangeIndex: 60943 entries, 0 to 60942\n",
      "Data columns (total 12 columns):\n",
      " #   Column        Non-Null Count  Dtype  \n",
      "---  ------        --------------  -----  \n",
      " 0   Area Code     60943 non-null  int64  \n",
      " 1   Area          60943 non-null  object \n",
      " 2   Item Code     60943 non-null  int64  \n",
      " 3   Item          60943 non-null  object \n",
      " 4   Element Code  60943 non-null  int64  \n",
      " 5   Element       60943 non-null  object \n",
      " 6   Unit          60943 non-null  object \n",
      " 7   Y2014         59354 non-null  float64\n",
      " 8   Y2015         59395 non-null  float64\n",
      " 9   Y2016         59408 non-null  float64\n",
      " 10  Y2017         59437 non-null  float64\n",
      " 11  Y2018         59507 non-null  float64\n",
      "dtypes: float64(5), int64(3), object(4)\n",
      "memory usage: 5.6+ MB\n"
     ]
    }
   ],
   "source": [
    "df.info()"
   ]
  },
  {
   "cell_type": "code",
   "execution_count": 21,
   "id": "1329819a-a9d6-4be4-aad2-4f8b2d668aad",
   "metadata": {
    "tags": []
   },
   "outputs": [
    {
     "name": "stdout",
     "output_type": "stream",
     "text": [
      "Basic statistics:\n"
     ]
    },
    {
     "data": {
      "text/html": [
       "<div>\n",
       "<style scoped>\n",
       "    .dataframe tbody tr th:only-of-type {\n",
       "        vertical-align: middle;\n",
       "    }\n",
       "\n",
       "    .dataframe tbody tr th {\n",
       "        vertical-align: top;\n",
       "    }\n",
       "\n",
       "    .dataframe thead th {\n",
       "        text-align: right;\n",
       "    }\n",
       "</style>\n",
       "<table border=\"1\" class=\"dataframe\">\n",
       "  <thead>\n",
       "    <tr style=\"text-align: right;\">\n",
       "      <th></th>\n",
       "      <th>Area Code</th>\n",
       "      <th>Item Code</th>\n",
       "      <th>Element Code</th>\n",
       "      <th>Y2014</th>\n",
       "      <th>Y2015</th>\n",
       "      <th>Y2016</th>\n",
       "      <th>Y2017</th>\n",
       "      <th>Y2018</th>\n",
       "    </tr>\n",
       "  </thead>\n",
       "  <tbody>\n",
       "    <tr>\n",
       "      <th>count</th>\n",
       "      <td>60943.000000</td>\n",
       "      <td>60943.000000</td>\n",
       "      <td>60943.000000</td>\n",
       "      <td>59354.000000</td>\n",
       "      <td>59395.000000</td>\n",
       "      <td>59408.000000</td>\n",
       "      <td>59437.000000</td>\n",
       "      <td>59507.000000</td>\n",
       "    </tr>\n",
       "    <tr>\n",
       "      <th>mean</th>\n",
       "      <td>134.265576</td>\n",
       "      <td>2687.176706</td>\n",
       "      <td>3814.856456</td>\n",
       "      <td>134.196282</td>\n",
       "      <td>135.235966</td>\n",
       "      <td>136.555222</td>\n",
       "      <td>140.917765</td>\n",
       "      <td>143.758381</td>\n",
       "    </tr>\n",
       "    <tr>\n",
       "      <th>std</th>\n",
       "      <td>72.605709</td>\n",
       "      <td>146.055739</td>\n",
       "      <td>2212.007033</td>\n",
       "      <td>1567.663696</td>\n",
       "      <td>1603.403984</td>\n",
       "      <td>1640.007194</td>\n",
       "      <td>1671.862359</td>\n",
       "      <td>1710.782658</td>\n",
       "    </tr>\n",
       "    <tr>\n",
       "      <th>min</th>\n",
       "      <td>4.000000</td>\n",
       "      <td>2501.000000</td>\n",
       "      <td>511.000000</td>\n",
       "      <td>-1796.000000</td>\n",
       "      <td>-3161.000000</td>\n",
       "      <td>-3225.000000</td>\n",
       "      <td>-1582.000000</td>\n",
       "      <td>-3396.000000</td>\n",
       "    </tr>\n",
       "    <tr>\n",
       "      <th>25%</th>\n",
       "      <td>74.000000</td>\n",
       "      <td>2562.000000</td>\n",
       "      <td>684.000000</td>\n",
       "      <td>0.000000</td>\n",
       "      <td>0.000000</td>\n",
       "      <td>0.000000</td>\n",
       "      <td>0.000000</td>\n",
       "      <td>0.000000</td>\n",
       "    </tr>\n",
       "    <tr>\n",
       "      <th>50%</th>\n",
       "      <td>136.000000</td>\n",
       "      <td>2630.000000</td>\n",
       "      <td>5142.000000</td>\n",
       "      <td>0.090000</td>\n",
       "      <td>0.080000</td>\n",
       "      <td>0.080000</td>\n",
       "      <td>0.100000</td>\n",
       "      <td>0.070000</td>\n",
       "    </tr>\n",
       "    <tr>\n",
       "      <th>75%</th>\n",
       "      <td>195.000000</td>\n",
       "      <td>2775.000000</td>\n",
       "      <td>5511.000000</td>\n",
       "      <td>8.340000</td>\n",
       "      <td>8.460000</td>\n",
       "      <td>8.430000</td>\n",
       "      <td>9.000000</td>\n",
       "      <td>9.000000</td>\n",
       "    </tr>\n",
       "    <tr>\n",
       "      <th>max</th>\n",
       "      <td>276.000000</td>\n",
       "      <td>2961.000000</td>\n",
       "      <td>5911.000000</td>\n",
       "      <td>176405.000000</td>\n",
       "      <td>181137.000000</td>\n",
       "      <td>185960.000000</td>\n",
       "      <td>190873.000000</td>\n",
       "      <td>195875.000000</td>\n",
       "    </tr>\n",
       "  </tbody>\n",
       "</table>\n",
       "</div>"
      ],
      "text/plain": [
       "          Area Code     Item Code  Element Code          Y2014          Y2015  \\\n",
       "count  60943.000000  60943.000000  60943.000000   59354.000000   59395.000000   \n",
       "mean     134.265576   2687.176706   3814.856456     134.196282     135.235966   \n",
       "std       72.605709    146.055739   2212.007033    1567.663696    1603.403984   \n",
       "min        4.000000   2501.000000    511.000000   -1796.000000   -3161.000000   \n",
       "25%       74.000000   2562.000000    684.000000       0.000000       0.000000   \n",
       "50%      136.000000   2630.000000   5142.000000       0.090000       0.080000   \n",
       "75%      195.000000   2775.000000   5511.000000       8.340000       8.460000   \n",
       "max      276.000000   2961.000000   5911.000000  176405.000000  181137.000000   \n",
       "\n",
       "               Y2016          Y2017          Y2018  \n",
       "count   59408.000000   59437.000000   59507.000000  \n",
       "mean      136.555222     140.917765     143.758381  \n",
       "std      1640.007194    1671.862359    1710.782658  \n",
       "min     -3225.000000   -1582.000000   -3396.000000  \n",
       "25%         0.000000       0.000000       0.000000  \n",
       "50%         0.080000       0.100000       0.070000  \n",
       "75%         8.430000       9.000000       9.000000  \n",
       "max    185960.000000  190873.000000  195875.000000  "
      ]
     },
     "execution_count": 21,
     "metadata": {},
     "output_type": "execute_result"
    }
   ],
   "source": [
    "print(\"Basic statistics:\")\n",
    "df.describe()"
   ]
  },
  {
   "cell_type": "code",
   "execution_count": 17,
   "id": "6f31b5a8-c07b-41d1-ac39-163a6bb04959",
   "metadata": {
    "tags": []
   },
   "outputs": [
    {
     "name": "stdout",
     "output_type": "stream",
     "text": [
      "Total Population - Both sexes\n",
      "Domestic supply quantity\n",
      "Food supply (kcal/capita/day)\n",
      "Protein supply quantity (g/capita/day)\n",
      "Fat supply quantity (g/capita/day)\n",
      "Production\n",
      "Import Quantity\n",
      "Stock Variation\n",
      "Export Quantity\n",
      "Feed\n",
      "Seed\n",
      "Losses\n",
      "Processing\n",
      "Other uses (non-food)\n",
      "Residuals\n",
      "Food\n",
      "Food supply quantity (kg/capita/yr)\n",
      "Tourist consumption\n"
     ]
    }
   ],
   "source": [
    "# Unique values in the \"Element\" column\n",
    "unique_elements = df['Element'].unique()\n",
    "\n",
    "# Print the unique values one below the other\n",
    "for element in unique_elements:\n",
    "    print(element)"
   ]
  },
  {
   "cell_type": "code",
   "execution_count": 18,
   "id": "cabde128-9bf6-4924-9791-c5ca8f99383e",
   "metadata": {
    "tags": []
   },
   "outputs": [
    {
     "name": "stdout",
     "output_type": "stream",
     "text": [
      "Number of unique countries: 49\n"
     ]
    }
   ],
   "source": [
    "# Number of unique countries in the \"Area\" column\n",
    "unique_countries_count = df['Area'].nunique()\n",
    "\n",
    "print(\"Number of unique countries:\", unique_countries_count)"
   ]
  },
  {
   "cell_type": "code",
   "execution_count": 19,
   "id": "1200794a-c0d0-4d4f-90f3-b50339e13d90",
   "metadata": {
    "tags": []
   },
   "outputs": [
    {
     "name": "stdout",
     "output_type": "stream",
     "text": [
      "Element\n",
      "Domestic supply quantity                  Y2018\n",
      "Export Quantity                           Y2017\n",
      "Fat supply quantity (g/capita/day)        Y2018\n",
      "Feed                                      Y2018\n",
      "Food                                      Y2018\n",
      "Food supply (kcal/capita/day)             Y2018\n",
      "Food supply quantity (kg/capita/yr)       Y2014\n",
      "Import Quantity                           Y2017\n",
      "Losses                                    Y2018\n",
      "Other uses (non-food)                     Y2017\n",
      "Processing                                Y2018\n",
      "Production                                Y2018\n",
      "Protein supply quantity (g/capita/day)    Y2017\n",
      "Residuals                                 Y2016\n",
      "Seed                                      Y2018\n",
      "Stock Variation                           Y2014\n",
      "Total Population - Both sexes             Y2018\n",
      "Tourist consumption                       Y2014\n",
      "dtype: object\n"
     ]
    }
   ],
   "source": [
    "# Group the data by 'Element' and calculate the sum of 'Stock Variation' for each year\n",
    "grouped_data = df.groupby(['Element'])[['Y2014', 'Y2015', 'Y2016', 'Y2017', 'Y2018']].sum()\n",
    "\n",
    "# Find the year with the highest sum of 'Stock Variation' for each element\n",
    "highest_stock_variation_year = grouped_data.idxmax(axis=1)\n",
    "\n",
    "print(highest_stock_variation_year)"
   ]
  },
  {
   "cell_type": "code",
   "execution_count": 11,
   "id": "89c90469-cdc5-44e7-9904-d810b92bd5b3",
   "metadata": {
    "tags": []
   },
   "outputs": [
    {
     "name": "stdout",
     "output_type": "stream",
     "text": [
      "Y2014    91.824742\n",
      "Y2015    91.500101\n",
      "Y2016    91.035664\n",
      "Y2017    91.577241\n",
      "Y2018    91.620246\n",
      "dtype: float64\n",
      "Y2014    2.384941\n",
      "Y2015    2.380597\n",
      "Y2016    2.366350\n",
      "Y2017    2.378002\n",
      "Y2018    2.373357\n",
      "dtype: float64\n",
      "Y2014    2.059529\n",
      "Y2015    2.057849\n",
      "Y2016    2.028669\n",
      "Y2017    2.058177\n",
      "Y2018    2.057086\n",
      "dtype: float64\n"
     ]
    }
   ],
   "source": [
    "# Food Supply and Nutrition\n",
    "food_supply = df[df['Element'] == 'Food supply (kcal/capita/day)']\n",
    "protein_supply = df[df['Element'] == 'Protein supply quantity (g/capita/day)']\n",
    "fat_supply = df[df['Element'] == 'Fat supply quantity (g/capita/day)']\n",
    "\n",
    "# Extract the years of interest\n",
    "years = ['Y2014', 'Y2015', 'Y2016', 'Y2017', 'Y2018']\n",
    "food_supply_years = food_supply[years].mean()\n",
    "protein_supply_years = protein_supply[years].mean()\n",
    "fat_supply_years = fat_supply[years].mean()\n",
    "\n",
    "print(food_supply_years)\n",
    "print(protein_supply_years)\n",
    "print(fat_supply_years)"
   ]
  },
  {
   "cell_type": "code",
   "execution_count": 13,
   "id": "d787f885-f38a-42c4-9a7c-197a0522200b",
   "metadata": {
    "tags": []
   },
   "outputs": [
    {
     "name": "stdout",
     "output_type": "stream",
     "text": [
      "Y2014    586.651163\n",
      "Y2015    672.558140\n",
      "Y2016    537.860465\n",
      "Y2017    605.395349\n",
      "Y2018    671.720930\n",
      "dtype: float64\n",
      "Y2014    1051.555556\n",
      "Y2015    1001.066667\n",
      "Y2016    1121.466667\n",
      "Y2017    1081.022222\n",
      "Y2018    1031.622222\n",
      "dtype: float64\n",
      "Y2014    42.534884\n",
      "Y2015    42.139535\n",
      "Y2016    32.625000\n",
      "Y2017    36.261905\n",
      "Y2018    37.439024\n",
      "dtype: float64\n",
      "Y2014    1529.866667\n",
      "Y2015    1511.711111\n",
      "Y2016    1627.800000\n",
      "Y2017    1584.644444\n",
      "Y2018    1613.355556\n",
      "dtype: float64\n"
     ]
    }
   ],
   "source": [
    "# Cereal Production and Consumption\n",
    "wheat_production = df[(df['Item'] == 'Wheat and products') & (df['Element'] == 'Production')]\n",
    "wheat_import = df[(df['Item'] == 'Wheat and products') & (df['Element'] == 'Import Quantity')]\n",
    "wheat_export = df[(df['Item'] == 'Wheat and products') & (df['Element'] == 'Export Quantity')]\n",
    "wheat_domestic_supply = df[(df['Item'] == 'Wheat and products') & (df['Element'] == 'Domestic supply quantity')]\n",
    "\n",
    "cereal_years = wheat_production[years].mean()\n",
    "wheat_import_years = wheat_import[years].mean()\n",
    "wheat_export_years = wheat_export[years].mean()\n",
    "wheat_domestic_supply_years = wheat_domestic_supply[years].mean()\n",
    "\n",
    "print(cereal_years)\n",
    "print(wheat_import_years)\n",
    "print(wheat_export_years)\n",
    "print(wheat_domestic_supply_years)"
   ]
  },
  {
   "cell_type": "code",
   "execution_count": 14,
   "id": "d809233d-a3fa-4bda-a0a9-0afc6343fa78",
   "metadata": {
    "tags": []
   },
   "outputs": [
    {
     "name": "stdout",
     "output_type": "stream",
     "text": [
      "Y2014    1001.380329\n",
      "Y2015     996.410719\n",
      "Y2016    1046.660000\n",
      "Y2017    1069.381757\n",
      "Y2018    1064.319505\n",
      "dtype: float64\n"
     ]
    }
   ],
   "source": [
    "# Cereal Usage Breakdown\n",
    "cereal_usage = df[(df['Item'] == 'Cereals - Excluding Beer') & (df['Element'] != 'Production')]\n",
    "cereal_usage_years = cereal_usage[years].mean()\n",
    "print(cereal_usage_years)"
   ]
  },
  {
   "cell_type": "code",
   "execution_count": 15,
   "id": "0850d6af-79bf-4d85-95d0-06730972ed32",
   "metadata": {
    "tags": []
   },
   "outputs": [
    {
     "name": "stdout",
     "output_type": "stream",
     "text": [
      "Y2014    13.888849\n",
      "Y2015     8.255141\n",
      "Y2016     7.832692\n",
      "Y2017    12.837842\n",
      "Y2018     4.879751\n",
      "dtype: float64\n"
     ]
    }
   ],
   "source": [
    "# Stock Variations\n",
    "stock_variations = df[df['Element'] == 'Stock Variation']\n",
    "stock_variations_years = stock_variations[years].mean()\n",
    "print(stock_variations_years)"
   ]
  },
  {
   "cell_type": "code",
   "execution_count": 22,
   "id": "a375ffdf-66d0-4451-9dcb-df5f1657a6e1",
   "metadata": {
    "tags": []
   },
   "outputs": [
    {
     "data": {
      "image/png": "[encoded data removed]",
      "text/plain": [
       "<Figure size 800x600 with 1 Axes>"
      ]
     },
     "metadata": {},
     "output_type": "display_data"
    }
   ],
   "source": [
    "# Example: Scatter plot for two numerical columns (e.g., 'Y2014' vs. 'Y2015' for population)\n",
    "plt.figure(figsize=(8, 6))\n",
    "plt.scatter(df['Y2014'], df['Y2015'])\n",
    "plt.title('Scatter Plot of Y2014 vs. Y2015 Population')\n",
    "plt.xlabel('Y2014 Population')\n",
    "plt.ylabel('Y2015 Population')\n",
    "plt.show()"
   ]
  },
  {
   "cell_type": "code",
   "execution_count": null,
   "id": "0131fc58-0439-47ef-8926-273541de78c9",
   "metadata": {},
   "outputs": [],
   "source": []
  }
 ],
 "metadata": {
  "kernelspec": {
   "display_name": "Python 3 (ipykernel)",
   "language": "python",
   "name": "python3"
  },
  "language_info": {
   "codemirror_mode": {
    "name": "ipython",
    "version": 3
   },
   "file_extension": ".py",
   "mimetype": "text/x-python",
   "name": "python",
   "nbconvert_exporter": "python",
   "pygments_lexer": "ipython3",
   "version": "3.9.17"
  }
 },
 "nbformat": 4,
 "nbformat_minor": 5
}
